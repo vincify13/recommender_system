{
 "cells": [
  {
   "cell_type": "code",
   "execution_count": 1,
   "metadata": {},
   "outputs": [
    {
     "data": {
      "application/javascript": [
       "\n",
       "            setTimeout(function() {\n",
       "                var nbb_cell_id = 1;\n",
       "                var nbb_unformatted_code = \"%load_ext nb_black\";\n",
       "                var nbb_formatted_code = \"%load_ext nb_black\";\n",
       "                var nbb_cells = Jupyter.notebook.get_cells();\n",
       "                for (var i = 0; i < nbb_cells.length; ++i) {\n",
       "                    if (nbb_cells[i].input_prompt_number == nbb_cell_id) {\n",
       "                        if (nbb_cells[i].get_text() == nbb_unformatted_code) {\n",
       "                             nbb_cells[i].set_text(nbb_formatted_code);\n",
       "                        }\n",
       "                        break;\n",
       "                    }\n",
       "                }\n",
       "            }, 500);\n",
       "            "
      ],
      "text/plain": [
       "<IPython.core.display.Javascript object>"
      ]
     },
     "metadata": {},
     "output_type": "display_data"
    }
   ],
   "source": [
    "%load_ext nb_black"
   ]
  },
  {
   "cell_type": "code",
   "execution_count": 2,
   "metadata": {},
   "outputs": [
    {
     "data": {
      "application/javascript": [
       "\n",
       "            setTimeout(function() {\n",
       "                var nbb_cell_id = 2;\n",
       "                var nbb_unformatted_code = \"import pandas as pd\\nfrom surprise import NormalPredictor\\nfrom surprise import SVD\\nfrom surprise import Dataset\\nfrom surprise import Reader\\nfrom surprise import accuracy\\nfrom surprise.model_selection import cross_validate\\nimport numpy as np\\nimport matplotlib.pyplot as plt\\nimport seaborn as sns\\nfrom collections import defaultdict\\nfrom matplotlib.ticker import PercentFormatter\\nimport random\\nfrom surprise.model_selection import GridSearchCV\";\n",
       "                var nbb_formatted_code = \"import pandas as pd\\nfrom surprise import NormalPredictor\\nfrom surprise import SVD\\nfrom surprise import Dataset\\nfrom surprise import Reader\\nfrom surprise import accuracy\\nfrom surprise.model_selection import cross_validate\\nimport numpy as np\\nimport matplotlib.pyplot as plt\\nimport seaborn as sns\\nfrom collections import defaultdict\\nfrom matplotlib.ticker import PercentFormatter\\nimport random\\nfrom surprise.model_selection import GridSearchCV\";\n",
       "                var nbb_cells = Jupyter.notebook.get_cells();\n",
       "                for (var i = 0; i < nbb_cells.length; ++i) {\n",
       "                    if (nbb_cells[i].input_prompt_number == nbb_cell_id) {\n",
       "                        if (nbb_cells[i].get_text() == nbb_unformatted_code) {\n",
       "                             nbb_cells[i].set_text(nbb_formatted_code);\n",
       "                        }\n",
       "                        break;\n",
       "                    }\n",
       "                }\n",
       "            }, 500);\n",
       "            "
      ],
      "text/plain": [
       "<IPython.core.display.Javascript object>"
      ]
     },
     "metadata": {},
     "output_type": "display_data"
    }
   ],
   "source": [
    "import pandas as pd\n",
    "from surprise import NormalPredictor\n",
    "from surprise import SVD\n",
    "from surprise import Dataset\n",
    "from surprise import Reader\n",
    "from surprise import accuracy\n",
    "from surprise.model_selection import cross_validate\n",
    "import numpy as np\n",
    "import matplotlib.pyplot as plt\n",
    "import seaborn as sns\n",
    "from collections import defaultdict\n",
    "from matplotlib.ticker import PercentFormatter\n",
    "import random\n",
    "from surprise.model_selection import GridSearchCV"
   ]
  },
  {
   "cell_type": "markdown",
   "metadata": {},
   "source": [
    "# Introduction\n",
    "\n",
    "In this NoteBook, I will use the Netflix dataset (https://www.kaggle.com/netflix-inc/netflix-prize-data) to create a recommender system. The goal of this project is to provide the top k movies for a specific user.\n",
    "\n",
    "We will use a method called Collaborative Filtering which, in simple word, use the ratings of similar users to predict the rating of a user. More especially, we will use the SVD (Single Value Decomposition) algorithm because it's an efficient one and it's still used a lot.\n",
    "\n",
    "Let's first start by importing our data and having a quick look at them."
   ]
  },
  {
   "cell_type": "code",
   "execution_count": 3,
   "metadata": {},
   "outputs": [
    {
     "data": {
      "application/javascript": [
       "\n",
       "            setTimeout(function() {\n",
       "                var nbb_cell_id = 3;\n",
       "                var nbb_unformatted_code = \"title = pd.read_csv(\\n    r\\\"D:/git/collaborative_filtering/recommender_system/data/movie_titles.csv\\\",\\n    header=None,\\n    encoding=\\\"ISO-8859-1\\\",\\n    usecols=[0, 1, 2],\\n    names=[\\\"movie_id\\\", \\\"year\\\", \\\"name\\\"],\\n)\\ndf = pd.read_csv(\\n    \\\"D:/git/collaborative_filtering/recommender_system/data/combined_data_1.txt\\\",\\n    header=None,\\n    names=[\\\"user_id\\\", \\\"rating\\\", \\\"timestamp\\\"],\\n)\";\n",
       "                var nbb_formatted_code = \"title = pd.read_csv(\\n    r\\\"D:/git/collaborative_filtering/recommender_system/data/movie_titles.csv\\\",\\n    header=None,\\n    encoding=\\\"ISO-8859-1\\\",\\n    usecols=[0, 1, 2],\\n    names=[\\\"movie_id\\\", \\\"year\\\", \\\"name\\\"],\\n)\\ndf = pd.read_csv(\\n    \\\"D:/git/collaborative_filtering/recommender_system/data/combined_data_1.txt\\\",\\n    header=None,\\n    names=[\\\"user_id\\\", \\\"rating\\\", \\\"timestamp\\\"],\\n)\";\n",
       "                var nbb_cells = Jupyter.notebook.get_cells();\n",
       "                for (var i = 0; i < nbb_cells.length; ++i) {\n",
       "                    if (nbb_cells[i].input_prompt_number == nbb_cell_id) {\n",
       "                        if (nbb_cells[i].get_text() == nbb_unformatted_code) {\n",
       "                             nbb_cells[i].set_text(nbb_formatted_code);\n",
       "                        }\n",
       "                        break;\n",
       "                    }\n",
       "                }\n",
       "            }, 500);\n",
       "            "
      ],
      "text/plain": [
       "<IPython.core.display.Javascript object>"
      ]
     },
     "metadata": {},
     "output_type": "display_data"
    }
   ],
   "source": [
    "title = pd.read_csv(\n",
    "    r\"D:/git/collaborative_filtering/recommender_system/data/movie_titles.csv\",\n",
    "    header=None,\n",
    "    encoding=\"ISO-8859-1\",\n",
    "    usecols=[0, 1, 2],\n",
    "    names=[\"movie_id\", \"year\", \"name\"],\n",
    ")\n",
    "df = pd.read_csv(\n",
    "    \"D:/git/collaborative_filtering/recommender_system/data/combined_data_1.txt\",\n",
    "    header=None,\n",
    "    names=[\"user_id\", \"rating\", \"timestamp\"],\n",
    ")"
   ]
  },
  {
   "cell_type": "code",
   "execution_count": 4,
   "metadata": {},
   "outputs": [
    {
     "data": {
      "text/html": [
       "<div>\n",
       "<style scoped>\n",
       "    .dataframe tbody tr th:only-of-type {\n",
       "        vertical-align: middle;\n",
       "    }\n",
       "\n",
       "    .dataframe tbody tr th {\n",
       "        vertical-align: top;\n",
       "    }\n",
       "\n",
       "    .dataframe thead th {\n",
       "        text-align: right;\n",
       "    }\n",
       "</style>\n",
       "<table border=\"1\" class=\"dataframe\">\n",
       "  <thead>\n",
       "    <tr style=\"text-align: right;\">\n",
       "      <th></th>\n",
       "      <th>movie_id</th>\n",
       "      <th>year</th>\n",
       "      <th>name</th>\n",
       "    </tr>\n",
       "  </thead>\n",
       "  <tbody>\n",
       "    <tr>\n",
       "      <th>0</th>\n",
       "      <td>1</td>\n",
       "      <td>2003.0</td>\n",
       "      <td>Dinosaur Planet</td>\n",
       "    </tr>\n",
       "    <tr>\n",
       "      <th>1</th>\n",
       "      <td>2</td>\n",
       "      <td>2004.0</td>\n",
       "      <td>Isle of Man TT 2004 Review</td>\n",
       "    </tr>\n",
       "    <tr>\n",
       "      <th>2</th>\n",
       "      <td>3</td>\n",
       "      <td>1997.0</td>\n",
       "      <td>Character</td>\n",
       "    </tr>\n",
       "    <tr>\n",
       "      <th>3</th>\n",
       "      <td>4</td>\n",
       "      <td>1994.0</td>\n",
       "      <td>Paula Abdul's Get Up &amp; Dance</td>\n",
       "    </tr>\n",
       "    <tr>\n",
       "      <th>4</th>\n",
       "      <td>5</td>\n",
       "      <td>2004.0</td>\n",
       "      <td>The Rise and Fall of ECW</td>\n",
       "    </tr>\n",
       "  </tbody>\n",
       "</table>\n",
       "</div>"
      ],
      "text/plain": [
       "   movie_id    year                          name\n",
       "0         1  2003.0               Dinosaur Planet\n",
       "1         2  2004.0    Isle of Man TT 2004 Review\n",
       "2         3  1997.0                     Character\n",
       "3         4  1994.0  Paula Abdul's Get Up & Dance\n",
       "4         5  2004.0      The Rise and Fall of ECW"
      ]
     },
     "execution_count": 4,
     "metadata": {},
     "output_type": "execute_result"
    },
    {
     "data": {
      "application/javascript": [
       "\n",
       "            setTimeout(function() {\n",
       "                var nbb_cell_id = 4;\n",
       "                var nbb_unformatted_code = \"title.head()\";\n",
       "                var nbb_formatted_code = \"title.head()\";\n",
       "                var nbb_cells = Jupyter.notebook.get_cells();\n",
       "                for (var i = 0; i < nbb_cells.length; ++i) {\n",
       "                    if (nbb_cells[i].input_prompt_number == nbb_cell_id) {\n",
       "                        if (nbb_cells[i].get_text() == nbb_unformatted_code) {\n",
       "                             nbb_cells[i].set_text(nbb_formatted_code);\n",
       "                        }\n",
       "                        break;\n",
       "                    }\n",
       "                }\n",
       "            }, 500);\n",
       "            "
      ],
      "text/plain": [
       "<IPython.core.display.Javascript object>"
      ]
     },
     "metadata": {},
     "output_type": "display_data"
    }
   ],
   "source": [
    "title.head()"
   ]
  },
  {
   "cell_type": "code",
   "execution_count": 5,
   "metadata": {},
   "outputs": [
    {
     "data": {
      "text/html": [
       "<div>\n",
       "<style scoped>\n",
       "    .dataframe tbody tr th:only-of-type {\n",
       "        vertical-align: middle;\n",
       "    }\n",
       "\n",
       "    .dataframe tbody tr th {\n",
       "        vertical-align: top;\n",
       "    }\n",
       "\n",
       "    .dataframe thead th {\n",
       "        text-align: right;\n",
       "    }\n",
       "</style>\n",
       "<table border=\"1\" class=\"dataframe\">\n",
       "  <thead>\n",
       "    <tr style=\"text-align: right;\">\n",
       "      <th></th>\n",
       "      <th>user_id</th>\n",
       "      <th>rating</th>\n",
       "      <th>timestamp</th>\n",
       "    </tr>\n",
       "  </thead>\n",
       "  <tbody>\n",
       "    <tr>\n",
       "      <th>0</th>\n",
       "      <td>1:</td>\n",
       "      <td>NaN</td>\n",
       "      <td>NaN</td>\n",
       "    </tr>\n",
       "    <tr>\n",
       "      <th>1</th>\n",
       "      <td>1488844</td>\n",
       "      <td>3.0</td>\n",
       "      <td>2005-09-06</td>\n",
       "    </tr>\n",
       "    <tr>\n",
       "      <th>2</th>\n",
       "      <td>822109</td>\n",
       "      <td>5.0</td>\n",
       "      <td>2005-05-13</td>\n",
       "    </tr>\n",
       "    <tr>\n",
       "      <th>3</th>\n",
       "      <td>885013</td>\n",
       "      <td>4.0</td>\n",
       "      <td>2005-10-19</td>\n",
       "    </tr>\n",
       "    <tr>\n",
       "      <th>4</th>\n",
       "      <td>30878</td>\n",
       "      <td>4.0</td>\n",
       "      <td>2005-12-26</td>\n",
       "    </tr>\n",
       "  </tbody>\n",
       "</table>\n",
       "</div>"
      ],
      "text/plain": [
       "   user_id  rating   timestamp\n",
       "0       1:     NaN         NaN\n",
       "1  1488844     3.0  2005-09-06\n",
       "2   822109     5.0  2005-05-13\n",
       "3   885013     4.0  2005-10-19\n",
       "4    30878     4.0  2005-12-26"
      ]
     },
     "execution_count": 5,
     "metadata": {},
     "output_type": "execute_result"
    },
    {
     "data": {
      "application/javascript": [
       "\n",
       "            setTimeout(function() {\n",
       "                var nbb_cell_id = 5;\n",
       "                var nbb_unformatted_code = \"df.head()\";\n",
       "                var nbb_formatted_code = \"df.head()\";\n",
       "                var nbb_cells = Jupyter.notebook.get_cells();\n",
       "                for (var i = 0; i < nbb_cells.length; ++i) {\n",
       "                    if (nbb_cells[i].input_prompt_number == nbb_cell_id) {\n",
       "                        if (nbb_cells[i].get_text() == nbb_unformatted_code) {\n",
       "                             nbb_cells[i].set_text(nbb_formatted_code);\n",
       "                        }\n",
       "                        break;\n",
       "                    }\n",
       "                }\n",
       "            }, 500);\n",
       "            "
      ],
      "text/plain": [
       "<IPython.core.display.Javascript object>"
      ]
     },
     "metadata": {},
     "output_type": "display_data"
    }
   ],
   "source": [
    "df.head()"
   ]
  },
  {
   "cell_type": "markdown",
   "metadata": {},
   "source": [
    "# Data preprocessing"
   ]
  },
  {
   "cell_type": "markdown",
   "metadata": {},
   "source": [
    "The dataset are not ready to be used for our SVD algorithm, we first need to transform our dataset from this form:\n",
    "\n",
    "    movie_id | Nan    | Nan\n",
    "    user_id  | rating | timestamp\n",
    "                 ...\n",
    "\n",
    "To the following:\n",
    "\n",
    "    user_id | rating | timestamp | movie_id"
   ]
  },
  {
   "cell_type": "code",
   "execution_count": 6,
   "metadata": {},
   "outputs": [
    {
     "data": {
      "application/javascript": [
       "\n",
       "            setTimeout(function() {\n",
       "                var nbb_cell_id = 6;\n",
       "                var nbb_unformatted_code = \"# create a df with only the movie_id and the number of reviews per movie\\ndf_nan = pd.DataFrame(pd.isnull(df['rating']))\\ndf_nan['movie_id'] = df['user_id'].map(lambda x: x.rstrip(':')).astype(int)\\ndf_nan = df_nan[df_nan['rating'] == True]\\ndf_nan = df_nan.reset_index()\\n\\nmovie_np = []\\n\\n#take the difference between the number of ratings of a row and the previous one and add it with the corresponing movie_id\\nfor i,j,k in zip(df_nan['index'][1:],df_nan['index'][:-1],df_nan['movie_id']): \\n    temp= np.full((1, i-j-1), k)\\n    movie_np = np.append(movie_np, temp)\\n\\n# Account for last record and corresponding length\\nlast_record = np.full((1,len(df) - df_nan.iloc[-1, 0] - 1),df_nan.iloc[-1, 2])\\nmovie_np = np.append(movie_np, last_record)\\n    \";\n",
       "                var nbb_formatted_code = \"# create a df with only the movie_id and the number of reviews per movie\\ndf_nan = pd.DataFrame(pd.isnull(df[\\\"rating\\\"]))\\ndf_nan[\\\"movie_id\\\"] = df[\\\"user_id\\\"].map(lambda x: x.rstrip(\\\":\\\")).astype(int)\\ndf_nan = df_nan[df_nan[\\\"rating\\\"] == True]\\ndf_nan = df_nan.reset_index()\\n\\nmovie_np = []\\n\\n# take the difference between the number of ratings of a row and the previous one and add it with the corresponing movie_id\\nfor i, j, k in zip(df_nan[\\\"index\\\"][1:], df_nan[\\\"index\\\"][:-1], df_nan[\\\"movie_id\\\"]):\\n    temp = np.full((1, i - j - 1), k)\\n    movie_np = np.append(movie_np, temp)\\n\\n# Account for last record and corresponding length\\nlast_record = np.full((1, len(df) - df_nan.iloc[-1, 0] - 1), df_nan.iloc[-1, 2])\\nmovie_np = np.append(movie_np, last_record)\";\n",
       "                var nbb_cells = Jupyter.notebook.get_cells();\n",
       "                for (var i = 0; i < nbb_cells.length; ++i) {\n",
       "                    if (nbb_cells[i].input_prompt_number == nbb_cell_id) {\n",
       "                        if (nbb_cells[i].get_text() == nbb_unformatted_code) {\n",
       "                             nbb_cells[i].set_text(nbb_formatted_code);\n",
       "                        }\n",
       "                        break;\n",
       "                    }\n",
       "                }\n",
       "            }, 500);\n",
       "            "
      ],
      "text/plain": [
       "<IPython.core.display.Javascript object>"
      ]
     },
     "metadata": {},
     "output_type": "display_data"
    }
   ],
   "source": [
    "# create a df with only the movie_id and the number of reviews per movie\n",
    "df_nan = pd.DataFrame(pd.isnull(df[\"rating\"]))\n",
    "df_nan[\"movie_id\"] = df[\"user_id\"].map(lambda x: x.rstrip(\":\")).astype(int)\n",
    "df_nan = df_nan[df_nan[\"rating\"] == True]\n",
    "df_nan = df_nan.reset_index()\n",
    "\n",
    "movie_np = []\n",
    "\n",
    "# take the difference between the number of ratings of a row and the previous one and add it with the corresponing movie_id\n",
    "for i, j, k in zip(df_nan[\"index\"][1:], df_nan[\"index\"][:-1], df_nan[\"movie_id\"]):\n",
    "    temp = np.full((1, i - j - 1), k)\n",
    "    movie_np = np.append(movie_np, temp)\n",
    "\n",
    "# Account for last record and corresponding length\n",
    "last_record = np.full((1, len(df) - df_nan.iloc[-1, 0] - 1), df_nan.iloc[-1, 2])\n",
    "movie_np = np.append(movie_np, last_record)"
   ]
  },
  {
   "cell_type": "markdown",
   "metadata": {},
   "source": [
    "Before adding the movie_id to the dataset, let's check if they have the same size."
   ]
  },
  {
   "cell_type": "code",
   "execution_count": 7,
   "metadata": {},
   "outputs": [
    {
     "name": "stdout",
     "output_type": "stream",
     "text": [
      "-4499\n"
     ]
    },
    {
     "data": {
      "application/javascript": [
       "\n",
       "            setTimeout(function() {\n",
       "                var nbb_cell_id = 7;\n",
       "                var nbb_unformatted_code = \"#check if they have the same size\\nprint(len(movie_np) - len(df))\";\n",
       "                var nbb_formatted_code = \"# check if they have the same size\\nprint(len(movie_np) - len(df))\";\n",
       "                var nbb_cells = Jupyter.notebook.get_cells();\n",
       "                for (var i = 0; i < nbb_cells.length; ++i) {\n",
       "                    if (nbb_cells[i].input_prompt_number == nbb_cell_id) {\n",
       "                        if (nbb_cells[i].get_text() == nbb_unformatted_code) {\n",
       "                             nbb_cells[i].set_text(nbb_formatted_code);\n",
       "                        }\n",
       "                        break;\n",
       "                    }\n",
       "                }\n",
       "            }, 500);\n",
       "            "
      ],
      "text/plain": [
       "<IPython.core.display.Javascript object>"
      ]
     },
     "metadata": {},
     "output_type": "display_data"
    }
   ],
   "source": [
    "# check if they have the same size\n",
    "print(len(movie_np) - len(df))"
   ]
  },
  {
   "cell_type": "markdown",
   "metadata": {},
   "source": [
    "We can see that our original dataframe and our movie id array have different size. The reason is there is still the movie id row in the original df so we need to get ride of them."
   ]
  },
  {
   "cell_type": "code",
   "execution_count": 8,
   "metadata": {},
   "outputs": [
    {
     "name": "stdout",
     "output_type": "stream",
     "text": [
      "0\n"
     ]
    },
    {
     "data": {
      "application/javascript": [
       "\n",
       "            setTimeout(function() {\n",
       "                var nbb_cell_id = 8;\n",
       "                var nbb_unformatted_code = \"df = df.loc[pd.isnull(df['rating']) == False]\\nprint(len(movie_np) - len(df))\";\n",
       "                var nbb_formatted_code = \"df = df.loc[pd.isnull(df[\\\"rating\\\"]) == False]\\nprint(len(movie_np) - len(df))\";\n",
       "                var nbb_cells = Jupyter.notebook.get_cells();\n",
       "                for (var i = 0; i < nbb_cells.length; ++i) {\n",
       "                    if (nbb_cells[i].input_prompt_number == nbb_cell_id) {\n",
       "                        if (nbb_cells[i].get_text() == nbb_unformatted_code) {\n",
       "                             nbb_cells[i].set_text(nbb_formatted_code);\n",
       "                        }\n",
       "                        break;\n",
       "                    }\n",
       "                }\n",
       "            }, 500);\n",
       "            "
      ],
      "text/plain": [
       "<IPython.core.display.Javascript object>"
      ]
     },
     "metadata": {},
     "output_type": "display_data"
    }
   ],
   "source": [
    "df = df.loc[pd.isnull(df[\"rating\"]) == False]\n",
    "print(len(movie_np) - len(df))"
   ]
  },
  {
   "cell_type": "markdown",
   "metadata": {},
   "source": [
    "We now have the same size for the original dataset and our movie_id array. We can add the movie ids to our dataset. "
   ]
  },
  {
   "cell_type": "code",
   "execution_count": 9,
   "metadata": {},
   "outputs": [
    {
     "data": {
      "text/html": [
       "<div>\n",
       "<style scoped>\n",
       "    .dataframe tbody tr th:only-of-type {\n",
       "        vertical-align: middle;\n",
       "    }\n",
       "\n",
       "    .dataframe tbody tr th {\n",
       "        vertical-align: top;\n",
       "    }\n",
       "\n",
       "    .dataframe thead th {\n",
       "        text-align: right;\n",
       "    }\n",
       "</style>\n",
       "<table border=\"1\" class=\"dataframe\">\n",
       "  <thead>\n",
       "    <tr style=\"text-align: right;\">\n",
       "      <th></th>\n",
       "      <th>user_id</th>\n",
       "      <th>rating</th>\n",
       "      <th>timestamp</th>\n",
       "      <th>movie_id</th>\n",
       "    </tr>\n",
       "  </thead>\n",
       "  <tbody>\n",
       "    <tr>\n",
       "      <th>1</th>\n",
       "      <td>1488844</td>\n",
       "      <td>3.0</td>\n",
       "      <td>2005-09-06</td>\n",
       "      <td>1</td>\n",
       "    </tr>\n",
       "    <tr>\n",
       "      <th>2</th>\n",
       "      <td>822109</td>\n",
       "      <td>5.0</td>\n",
       "      <td>2005-05-13</td>\n",
       "      <td>1</td>\n",
       "    </tr>\n",
       "    <tr>\n",
       "      <th>3</th>\n",
       "      <td>885013</td>\n",
       "      <td>4.0</td>\n",
       "      <td>2005-10-19</td>\n",
       "      <td>1</td>\n",
       "    </tr>\n",
       "    <tr>\n",
       "      <th>4</th>\n",
       "      <td>30878</td>\n",
       "      <td>4.0</td>\n",
       "      <td>2005-12-26</td>\n",
       "      <td>1</td>\n",
       "    </tr>\n",
       "    <tr>\n",
       "      <th>5</th>\n",
       "      <td>823519</td>\n",
       "      <td>3.0</td>\n",
       "      <td>2004-05-03</td>\n",
       "      <td>1</td>\n",
       "    </tr>\n",
       "  </tbody>\n",
       "</table>\n",
       "</div>"
      ],
      "text/plain": [
       "   user_id  rating   timestamp  movie_id\n",
       "1  1488844     3.0  2005-09-06         1\n",
       "2   822109     5.0  2005-05-13         1\n",
       "3   885013     4.0  2005-10-19         1\n",
       "4    30878     4.0  2005-12-26         1\n",
       "5   823519     3.0  2004-05-03         1"
      ]
     },
     "execution_count": 9,
     "metadata": {},
     "output_type": "execute_result"
    },
    {
     "data": {
      "application/javascript": [
       "\n",
       "            setTimeout(function() {\n",
       "                var nbb_cell_id = 9;\n",
       "                var nbb_unformatted_code = \"df['movie_id'] = movie_np.astype(int)\\ndf.head()\";\n",
       "                var nbb_formatted_code = \"df[\\\"movie_id\\\"] = movie_np.astype(int)\\ndf.head()\";\n",
       "                var nbb_cells = Jupyter.notebook.get_cells();\n",
       "                for (var i = 0; i < nbb_cells.length; ++i) {\n",
       "                    if (nbb_cells[i].input_prompt_number == nbb_cell_id) {\n",
       "                        if (nbb_cells[i].get_text() == nbb_unformatted_code) {\n",
       "                             nbb_cells[i].set_text(nbb_formatted_code);\n",
       "                        }\n",
       "                        break;\n",
       "                    }\n",
       "                }\n",
       "            }, 500);\n",
       "            "
      ],
      "text/plain": [
       "<IPython.core.display.Javascript object>"
      ]
     },
     "metadata": {},
     "output_type": "display_data"
    }
   ],
   "source": [
    "df[\"movie_id\"] = movie_np.astype(int)\n",
    "df.head()"
   ]
  },
  {
   "cell_type": "markdown",
   "metadata": {},
   "source": [
    "# Data Exploration"
   ]
  },
  {
   "cell_type": "markdown",
   "metadata": {},
   "source": [
    "In this section, we will explore a bit our data to understand it better. We will also check if we need to remove some data."
   ]
  },
  {
   "cell_type": "markdown",
   "metadata": {},
   "source": [
    "Let's start with ploting the distribution of our ratings."
   ]
  },
  {
   "cell_type": "code",
   "execution_count": 10,
   "metadata": {
    "scrolled": false
   },
   "outputs": [
    {
     "data": {
      "image/png": "[encoded data removed]",
      "text/plain": [
       "<Figure size 864x576 with 1 Axes>"
      ]
     },
     "metadata": {
      "needs_background": "light"
     },
     "output_type": "display_data"
    },
    {
     "data": {
      "application/javascript": [
       "\n",
       "            setTimeout(function() {\n",
       "                var nbb_cell_id = 10;\n",
       "                var nbb_unformatted_code = \"plt.rcParams.update({'font.size': 15})\\nplt.figure(figsize=(12,8))\\nplt.hist(df['rating'], weights=np.ones(len(df['rating'])) / len(df['rating']), bins=15)\\nplt.gca().yaxis.set_major_formatter(PercentFormatter(1))\\nplt.xlabel('Rating')\\nplt.ylabel('Frequency')\\nplt.title('Histogram of the ratings')\\nplt.show()\";\n",
       "                var nbb_formatted_code = \"plt.rcParams.update({\\\"font.size\\\": 15})\\nplt.figure(figsize=(12, 8))\\nplt.hist(df[\\\"rating\\\"], weights=np.ones(len(df[\\\"rating\\\"])) / len(df[\\\"rating\\\"]), bins=15)\\nplt.gca().yaxis.set_major_formatter(PercentFormatter(1))\\nplt.xlabel(\\\"Rating\\\")\\nplt.ylabel(\\\"Frequency\\\")\\nplt.title(\\\"Histogram of the ratings\\\")\\nplt.show()\";\n",
       "                var nbb_cells = Jupyter.notebook.get_cells();\n",
       "                for (var i = 0; i < nbb_cells.length; ++i) {\n",
       "                    if (nbb_cells[i].input_prompt_number == nbb_cell_id) {\n",
       "                        if (nbb_cells[i].get_text() == nbb_unformatted_code) {\n",
       "                             nbb_cells[i].set_text(nbb_formatted_code);\n",
       "                        }\n",
       "                        break;\n",
       "                    }\n",
       "                }\n",
       "            }, 500);\n",
       "            "
      ],
      "text/plain": [
       "<IPython.core.display.Javascript object>"
      ]
     },
     "metadata": {},
     "output_type": "display_data"
    }
   ],
   "source": [
    "plt.rcParams.update({\"font.size\": 15})\n",
    "plt.figure(figsize=(12, 8))\n",
    "plt.hist(df[\"rating\"], weights=np.ones(len(df[\"rating\"])) / len(df[\"rating\"]), bins=15)\n",
    "plt.gca().yaxis.set_major_formatter(PercentFormatter(1))\n",
    "plt.xlabel(\"Rating\")\n",
    "plt.ylabel(\"Frequency\")\n",
    "plt.title(\"Histogram of the ratings\")\n",
    "plt.show()"
   ]
  },
  {
   "cell_type": "markdown",
   "metadata": {},
   "source": [
    "We can see that most of the ratings are mostly positive (equal or superior at 3).\n",
    "\n",
    "A common problem in recommendation systems is that most of the ratings are concentred on a few number of popular movies. To illustrate that let's check how the 30% of our most voted movies weight on the whole dataset."
   ]
  },
  {
   "cell_type": "code",
   "execution_count": 11,
   "metadata": {},
   "outputs": [
    {
     "name": "stdout",
     "output_type": "stream",
     "text": [
      "The 30% most popular movies represent 94.08% of our total ratings\n"
     ]
    },
    {
     "data": {
      "application/javascript": [
       "\n",
       "            setTimeout(function() {\n",
       "                var nbb_cell_id = 11;\n",
       "                var nbb_unformatted_code = \"movier_count = df[['movie_id','rating']].groupby(['movie_id'], as_index = False).agg(['count'])\\nmovier_count.columns = list(map('_'.join, movier_count.columns.values))\\npopular_movies = movier_count.sort_values(by='rating_count', ascending = False)\\npopular_movies = popular_movies.loc[popular_movies['rating_count'] >=  popular_movies['rating_count'].quantile(.70)]\\n\\nperc = (popular_movies['rating_count'].sum()/movier_count['rating_count'].sum())*100\\n\\nprint('The 30% most popular movies represent {}% of our total ratings'.format(round(perc,2)))\";\n",
       "                var nbb_formatted_code = \"movier_count = (\\n    df[[\\\"movie_id\\\", \\\"rating\\\"]].groupby([\\\"movie_id\\\"], as_index=False).agg([\\\"count\\\"])\\n)\\nmovier_count.columns = list(map(\\\"_\\\".join, movier_count.columns.values))\\npopular_movies = movier_count.sort_values(by=\\\"rating_count\\\", ascending=False)\\npopular_movies = popular_movies.loc[\\n    popular_movies[\\\"rating_count\\\"] >= popular_movies[\\\"rating_count\\\"].quantile(0.70)\\n]\\n\\nperc = (popular_movies[\\\"rating_count\\\"].sum() / movier_count[\\\"rating_count\\\"].sum()) * 100\\n\\nprint(\\n    \\\"The 30% most popular movies represent {}% of our total ratings\\\".format(\\n        round(perc, 2)\\n    )\\n)\";\n",
       "                var nbb_cells = Jupyter.notebook.get_cells();\n",
       "                for (var i = 0; i < nbb_cells.length; ++i) {\n",
       "                    if (nbb_cells[i].input_prompt_number == nbb_cell_id) {\n",
       "                        if (nbb_cells[i].get_text() == nbb_unformatted_code) {\n",
       "                             nbb_cells[i].set_text(nbb_formatted_code);\n",
       "                        }\n",
       "                        break;\n",
       "                    }\n",
       "                }\n",
       "            }, 500);\n",
       "            "
      ],
      "text/plain": [
       "<IPython.core.display.Javascript object>"
      ]
     },
     "metadata": {},
     "output_type": "display_data"
    }
   ],
   "source": [
    "movier_count = (\n",
    "    df[[\"movie_id\", \"rating\"]].groupby([\"movie_id\"], as_index=False).agg([\"count\"])\n",
    ")\n",
    "movier_count.columns = list(map(\"_\".join, movier_count.columns.values))\n",
    "popular_movies = movier_count.sort_values(by=\"rating_count\", ascending=False)\n",
    "popular_movies = popular_movies.loc[\n",
    "    popular_movies[\"rating_count\"] >= popular_movies[\"rating_count\"].quantile(0.70)\n",
    "]\n",
    "\n",
    "perc = (popular_movies[\"rating_count\"].sum() / movier_count[\"rating_count\"].sum()) * 100\n",
    "\n",
    "print(\n",
    "    \"The 30% most popular movies represent {}% of our total ratings\".format(\n",
    "        round(perc, 2)\n",
    "    )\n",
    ")"
   ]
  },
  {
   "cell_type": "code",
   "execution_count": 12,
   "metadata": {},
   "outputs": [
    {
     "data": {
      "image/png": "[encoded data removed]",
      "text/plain": [
       "<Figure size 864x576 with 1 Axes>"
      ]
     },
     "metadata": {},
     "output_type": "display_data"
    },
    {
     "data": {
      "application/javascript": [
       "\n",
       "            setTimeout(function() {\n",
       "                var nbb_cell_id = 12;\n",
       "                var nbb_unformatted_code = \"x = [popular_movies['rating_count'].sum(),movier_count['rating_count'].sum() - popular_movies['rating_count'].sum()]\\n\\nplt.figure(figsize=(12,8))\\nplt.rcParams.update({'font.size': 18})\\nplt.pie(x,labels = ['Popular movies','Rest of the movies'],autopct='%1.0f%%', explode =(0,0.1))\\nplt.rcParams.update({'font.size': 20})\\n\\nplt.title('Number of ratings')\\nplt.show()\";\n",
       "                var nbb_formatted_code = \"x = [\\n    popular_movies[\\\"rating_count\\\"].sum(),\\n    movier_count[\\\"rating_count\\\"].sum() - popular_movies[\\\"rating_count\\\"].sum(),\\n]\\n\\nplt.figure(figsize=(12, 8))\\nplt.rcParams.update({\\\"font.size\\\": 18})\\nplt.pie(\\n    x,\\n    labels=[\\\"Popular movies\\\", \\\"Rest of the movies\\\"],\\n    autopct=\\\"%1.0f%%\\\",\\n    explode=(0, 0.1),\\n)\\nplt.rcParams.update({\\\"font.size\\\": 20})\\n\\nplt.title(\\\"Number of ratings\\\")\\nplt.show()\";\n",
       "                var nbb_cells = Jupyter.notebook.get_cells();\n",
       "                for (var i = 0; i < nbb_cells.length; ++i) {\n",
       "                    if (nbb_cells[i].input_prompt_number == nbb_cell_id) {\n",
       "                        if (nbb_cells[i].get_text() == nbb_unformatted_code) {\n",
       "                             nbb_cells[i].set_text(nbb_formatted_code);\n",
       "                        }\n",
       "                        break;\n",
       "                    }\n",
       "                }\n",
       "            }, 500);\n",
       "            "
      ],
      "text/plain": [
       "<IPython.core.display.Javascript object>"
      ]
     },
     "metadata": {},
     "output_type": "display_data"
    }
   ],
   "source": [
    "x = [\n",
    "    popular_movies[\"rating_count\"].sum(),\n",
    "    movier_count[\"rating_count\"].sum() - popular_movies[\"rating_count\"].sum(),\n",
    "]\n",
    "\n",
    "plt.figure(figsize=(12, 8))\n",
    "plt.rcParams.update({\"font.size\": 18})\n",
    "plt.pie(\n",
    "    x,\n",
    "    labels=[\"Popular movies\", \"Rest of the movies\"],\n",
    "    autopct=\"%1.0f%%\",\n",
    "    explode=(0, 0.1),\n",
    ")\n",
    "plt.rcParams.update({\"font.size\": 20})\n",
    "\n",
    "plt.title(\"Number of ratings\")\n",
    "plt.show()"
   ]
  },
  {
   "cell_type": "markdown",
   "metadata": {},
   "source": [
    "So we can see that this problem is real, especially in our dataset. The problem with an unbalanced concentration is that the recommender will more likely recommend popular movie and won't recommend less popular movie even if this one is relevant."
   ]
  },
  {
   "cell_type": "markdown",
   "metadata": {},
   "source": [
    "# MODEL"
   ]
  },
  {
   "cell_type": "code",
   "execution_count": 13,
   "metadata": {},
   "outputs": [
    {
     "data": {
      "application/javascript": [
       "\n",
       "            setTimeout(function() {\n",
       "                var nbb_cell_id = 13;\n",
       "                var nbb_unformatted_code = \"#save the df\\ndf.to_csv('D:/data/netflix/df.csv', index = False)\";\n",
       "                var nbb_formatted_code = \"# save the df\\ndf.to_csv(\\\"D:/data/netflix/df.csv\\\", index=False)\";\n",
       "                var nbb_cells = Jupyter.notebook.get_cells();\n",
       "                for (var i = 0; i < nbb_cells.length; ++i) {\n",
       "                    if (nbb_cells[i].input_prompt_number == nbb_cell_id) {\n",
       "                        if (nbb_cells[i].get_text() == nbb_unformatted_code) {\n",
       "                             nbb_cells[i].set_text(nbb_formatted_code);\n",
       "                        }\n",
       "                        break;\n",
       "                    }\n",
       "                }\n",
       "            }, 500);\n",
       "            "
      ],
      "text/plain": [
       "<IPython.core.display.Javascript object>"
      ]
     },
     "metadata": {},
     "output_type": "display_data"
    }
   ],
   "source": [
    "# save the df\n",
    "df.to_csv(\"D:/data/netflix/df.csv\", index=False)"
   ]
  },
  {
   "cell_type": "markdown",
   "metadata": {},
   "source": [
    "As my computer is not powerful enough, I will only use a subset of the data to train the recommender system. However, the process is the same regardless the size of the dataset you are using.\n",
    "\n",
    "As we take a subset our the dataset, shuffling is important to have a variety of movie in the subset."
   ]
  },
  {
   "cell_type": "code",
   "execution_count": 14,
   "metadata": {},
   "outputs": [
    {
     "data": {
      "text/html": [
       "<div>\n",
       "<style scoped>\n",
       "    .dataframe tbody tr th:only-of-type {\n",
       "        vertical-align: middle;\n",
       "    }\n",
       "\n",
       "    .dataframe tbody tr th {\n",
       "        vertical-align: top;\n",
       "    }\n",
       "\n",
       "    .dataframe thead th {\n",
       "        text-align: right;\n",
       "    }\n",
       "</style>\n",
       "<table border=\"1\" class=\"dataframe\">\n",
       "  <thead>\n",
       "    <tr style=\"text-align: right;\">\n",
       "      <th></th>\n",
       "      <th>user_id</th>\n",
       "      <th>rating</th>\n",
       "      <th>timestamp</th>\n",
       "      <th>movie_id</th>\n",
       "    </tr>\n",
       "  </thead>\n",
       "  <tbody>\n",
       "    <tr>\n",
       "      <th>0</th>\n",
       "      <td>10779</td>\n",
       "      <td>5.0</td>\n",
       "      <td>2004-02-06</td>\n",
       "      <td>1639</td>\n",
       "    </tr>\n",
       "    <tr>\n",
       "      <th>1</th>\n",
       "      <td>1438997</td>\n",
       "      <td>4.0</td>\n",
       "      <td>2004-06-08</td>\n",
       "      <td>4472</td>\n",
       "    </tr>\n",
       "    <tr>\n",
       "      <th>2</th>\n",
       "      <td>1660482</td>\n",
       "      <td>3.0</td>\n",
       "      <td>2005-06-15</td>\n",
       "      <td>4384</td>\n",
       "    </tr>\n",
       "    <tr>\n",
       "      <th>3</th>\n",
       "      <td>148844</td>\n",
       "      <td>3.0</td>\n",
       "      <td>2005-01-20</td>\n",
       "      <td>3925</td>\n",
       "    </tr>\n",
       "    <tr>\n",
       "      <th>4</th>\n",
       "      <td>345035</td>\n",
       "      <td>4.0</td>\n",
       "      <td>2004-03-19</td>\n",
       "      <td>1035</td>\n",
       "    </tr>\n",
       "  </tbody>\n",
       "</table>\n",
       "</div>"
      ],
      "text/plain": [
       "   user_id  rating   timestamp  movie_id\n",
       "0    10779     5.0  2004-02-06      1639\n",
       "1  1438997     4.0  2004-06-08      4472\n",
       "2  1660482     3.0  2005-06-15      4384\n",
       "3   148844     3.0  2005-01-20      3925\n",
       "4   345035     4.0  2004-03-19      1035"
      ]
     },
     "execution_count": 14,
     "metadata": {},
     "output_type": "execute_result"
    },
    {
     "data": {
      "application/javascript": [
       "\n",
       "            setTimeout(function() {\n",
       "                var nbb_cell_id = 14;\n",
       "                var nbb_unformatted_code = \"#taking only the first n rows\\ndf = pd.read_csv('D:/data/netflix/df.csv')\\nfrom sklearn.utils import shuffle\\n\\ndf = shuffle(df).reset_index(drop=True)\\ndf = df.iloc[:2000000]\\n\\ndf.head()\";\n",
       "                var nbb_formatted_code = \"# taking only the first n rows\\ndf = pd.read_csv(\\\"D:/data/netflix/df.csv\\\")\\nfrom sklearn.utils import shuffle\\n\\ndf = shuffle(df).reset_index(drop=True)\\ndf = df.iloc[:2000000]\\n\\ndf.head()\";\n",
       "                var nbb_cells = Jupyter.notebook.get_cells();\n",
       "                for (var i = 0; i < nbb_cells.length; ++i) {\n",
       "                    if (nbb_cells[i].input_prompt_number == nbb_cell_id) {\n",
       "                        if (nbb_cells[i].get_text() == nbb_unformatted_code) {\n",
       "                             nbb_cells[i].set_text(nbb_formatted_code);\n",
       "                        }\n",
       "                        break;\n",
       "                    }\n",
       "                }\n",
       "            }, 500);\n",
       "            "
      ],
      "text/plain": [
       "<IPython.core.display.Javascript object>"
      ]
     },
     "metadata": {},
     "output_type": "display_data"
    }
   ],
   "source": [
    "# taking only the first n rows\n",
    "df = pd.read_csv(\"D:/data/netflix/df.csv\")\n",
    "from sklearn.utils import shuffle\n",
    "\n",
    "df = shuffle(df).reset_index(drop=True)\n",
    "df = df.iloc[:2000000]\n",
    "\n",
    "df.head()"
   ]
  },
  {
   "cell_type": "markdown",
   "metadata": {},
   "source": [
    "## Training"
   ]
  },
  {
   "cell_type": "markdown",
   "metadata": {},
   "source": [
    "To evualuate the performance of the model, we will use the RMSE. However, we will also calculate the MAE, Recall@k and Precision@k to have a better idea of the model performance. "
   ]
  },
  {
   "cell_type": "code",
   "execution_count": 15,
   "metadata": {},
   "outputs": [
    {
     "data": {
      "application/javascript": [
       "\n",
       "            setTimeout(function() {\n",
       "                var nbb_cell_id = 15;\n",
       "                var nbb_unformatted_code = \"def precision_recall_at_k(predictions, k=10, threshold=3.5):\\n    \\\"\\\"\\\"Return precision and recall at k metrics for each user\\\"\\\"\\\"\\n\\n    # First map the predictions to each user.\\n    user_est_true = defaultdict(list)\\n    for uid, _, true_r, est, _ in predictions:\\n        user_est_true[uid].append((est, true_r))\\n\\n    precisions = dict()\\n    recalls = dict()\\n    for uid, user_ratings in user_est_true.items():\\n\\n        # Sort user ratings by estimated value\\n        user_ratings.sort(key=lambda x: x[0], reverse=True)\\n\\n        # Number of relevant items\\n        n_rel = sum((true_r >= threshold) for (_, true_r) in user_ratings)\\n\\n        # Number of recommended items in top k\\n        n_rec_k = sum((est >= threshold) for (est, _) in user_ratings[:k])\\n\\n        # Number of relevant and recommended items in top k\\n        n_rel_and_rec_k = sum(((true_r >= threshold) and (est >= threshold))\\n                              for (est, true_r) in user_ratings[:k])\\n\\n        # Precision@K: Proportion of recommended items that are relevant\\n        # When n_rec_k is 0, Precision is undefined. We here set it to 0.\\n\\n        precisions[uid] = n_rel_and_rec_k / n_rec_k if n_rec_k != 0 else 0\\n\\n        # Recall@K: Proportion of relevant items that are recommended\\n        # When n_rel is 0, Recall is undefined. We here set it to 0.\\n\\n        recalls[uid] = n_rel_and_rec_k / n_rel if n_rel != 0 else 0\\n\\n    return precisions, recalls\";\n",
       "                var nbb_formatted_code = \"def precision_recall_at_k(predictions, k=10, threshold=3.5):\\n    \\\"\\\"\\\"Return precision and recall at k metrics for each user\\\"\\\"\\\"\\n\\n    # First map the predictions to each user.\\n    user_est_true = defaultdict(list)\\n    for uid, _, true_r, est, _ in predictions:\\n        user_est_true[uid].append((est, true_r))\\n\\n    precisions = dict()\\n    recalls = dict()\\n    for uid, user_ratings in user_est_true.items():\\n\\n        # Sort user ratings by estimated value\\n        user_ratings.sort(key=lambda x: x[0], reverse=True)\\n\\n        # Number of relevant items\\n        n_rel = sum((true_r >= threshold) for (_, true_r) in user_ratings)\\n\\n        # Number of recommended items in top k\\n        n_rec_k = sum((est >= threshold) for (est, _) in user_ratings[:k])\\n\\n        # Number of relevant and recommended items in top k\\n        n_rel_and_rec_k = sum(\\n            ((true_r >= threshold) and (est >= threshold))\\n            for (est, true_r) in user_ratings[:k]\\n        )\\n\\n        # Precision@K: Proportion of recommended items that are relevant\\n        # When n_rec_k is 0, Precision is undefined. We here set it to 0.\\n\\n        precisions[uid] = n_rel_and_rec_k / n_rec_k if n_rec_k != 0 else 0\\n\\n        # Recall@K: Proportion of relevant items that are recommended\\n        # When n_rel is 0, Recall is undefined. We here set it to 0.\\n\\n        recalls[uid] = n_rel_and_rec_k / n_rel if n_rel != 0 else 0\\n\\n    return precisions, recalls\";\n",
       "                var nbb_cells = Jupyter.notebook.get_cells();\n",
       "                for (var i = 0; i < nbb_cells.length; ++i) {\n",
       "                    if (nbb_cells[i].input_prompt_number == nbb_cell_id) {\n",
       "                        if (nbb_cells[i].get_text() == nbb_unformatted_code) {\n",
       "                             nbb_cells[i].set_text(nbb_formatted_code);\n",
       "                        }\n",
       "                        break;\n",
       "                    }\n",
       "                }\n",
       "            }, 500);\n",
       "            "
      ],
      "text/plain": [
       "<IPython.core.display.Javascript object>"
      ]
     },
     "metadata": {},
     "output_type": "display_data"
    }
   ],
   "source": [
    "def precision_recall_at_k(predictions, k=10, threshold=3.5):\n",
    "    \"\"\"Return precision and recall at k metrics for each user\"\"\"\n",
    "\n",
    "    # First map the predictions to each user.\n",
    "    user_est_true = defaultdict(list)\n",
    "    for uid, _, true_r, est, _ in predictions:\n",
    "        user_est_true[uid].append((est, true_r))\n",
    "\n",
    "    precisions = dict()\n",
    "    recalls = dict()\n",
    "    for uid, user_ratings in user_est_true.items():\n",
    "\n",
    "        # Sort user ratings by estimated value\n",
    "        user_ratings.sort(key=lambda x: x[0], reverse=True)\n",
    "\n",
    "        # Number of relevant items\n",
    "        n_rel = sum((true_r >= threshold) for (_, true_r) in user_ratings)\n",
    "\n",
    "        # Number of recommended items in top k\n",
    "        n_rec_k = sum((est >= threshold) for (est, _) in user_ratings[:k])\n",
    "\n",
    "        # Number of relevant and recommended items in top k\n",
    "        n_rel_and_rec_k = sum(((true_r >= threshold) and (est >= threshold))\n",
    "                              for (est, true_r) in user_ratings[:k])\n",
    "\n",
    "        # Precision@K: Proportion of recommended items that are relevant\n",
    "        # When n_rec_k is 0, Precision is undefined. We here set it to 0.\n",
    "\n",
    "        precisions[uid] = n_rel_and_rec_k / n_rec_k if n_rec_k != 0 else 0\n",
    "\n",
    "        # Recall@K: Proportion of relevant items that are recommended\n",
    "        # When n_rel is 0, Recall is undefined. We here set it to 0.\n",
    "\n",
    "        recalls[uid] = n_rel_and_rec_k / n_rel if n_rel != 0 else 0\n",
    "\n",
    "    return precisions, recalls\n"
   ]
  },
  {
   "cell_type": "markdown",
   "metadata": {},
   "source": [
    "We will search for the best hyperparameters by doing a grid search with cross validation on 90% of our dataset. The best parameters are:\n",
    "- the number of latent factor that we will use to model the user preference / movie category.\n",
    "- the learning rate\n",
    "- the number of epoch\n",
    "\n",
    "Then, we will evaluate the performance on the 10% remining to have an unbiased accuracy estimation."
   ]
  },
  {
   "cell_type": "code",
   "execution_count": 16,
   "metadata": {},
   "outputs": [
    {
     "name": "stdout",
     "output_type": "stream",
     "text": [
      "Grid Search...\n",
      "Biased accuracy on A,   RMSE: 0.8761\n",
      "MAE:  0.6934\n",
      "Precision@k:  0.45722225494530766\n",
      "Recall@k:  0.2747128651163116\n",
      "Unbiased accuracy on B, RMSE: 0.9660\n",
      "MAE:  0.7644\n",
      "Precision@k:  0.23940734781442763\n",
      "Recall@k:  0.21433702701685753\n"
     ]
    },
    {
     "data": {
      "text/plain": [
       "{'n_factors': 5, 'n_epochs': 20, 'lr_all': 0.005}"
      ]
     },
     "execution_count": 16,
     "metadata": {},
     "output_type": "execute_result"
    },
    {
     "data": {
      "application/javascript": [
       "\n",
       "            setTimeout(function() {\n",
       "                var nbb_cell_id = 16;\n",
       "                var nbb_unformatted_code = \"#unbiased accuracy estimation\\n\\n# Load the full dataset.\\nreader = Reader(rating_scale = (1,5))\\ndata = Dataset.load_from_df(df[['user_id', 'movie_id', 'rating']], reader)\\nraw_ratings = data.raw_ratings\\n\\n#shuffle\\nrandom.shuffle(raw_ratings)\\n\\n# A = 90% of the data, B = 10% of the data\\nthreshold = int(.9 * len(raw_ratings))\\nA_raw_ratings = raw_ratings[:threshold]\\nB_raw_ratings = raw_ratings[threshold:]\\n\\ndata.raw_ratings = A_raw_ratings  # data is now the set A\\n\\n# Select your best algo with grid search.\\nprint('Grid Search...')\\nparam_grid = {'n_factors' : [5,10,],'n_epochs': [15,20], 'lr_all': [0.002, 0.005, 0.01]}\\ngrid_search = GridSearchCV(SVD, param_grid, measures=['rmse'], cv=3)\\ngrid_search.fit(data)\\n\\nalgo = grid_search.best_estimator['rmse']\\n\\n# retrain on the whole set A\\ntrainset = data.build_full_trainset()\\nalgo.fit(trainset)\\n\\n# Compute biased accuracy on A\\npredictions = algo.test(trainset.build_testset())\\nprint('Biased accuracy on A,', end='   ')\\naccuracy.rmse(predictions)\\naccuracy.mae(predictions)\\n\\nprecisions, recalls = precision_recall_at_k(predictions, k=5, threshold=4)\\nprint('Precision@k: ',sum(prec for prec in precisions.values()) / len(precisions))\\nprint('Recall@k: ',sum(rec for rec in recalls.values()) / len(recalls))\\n\\n# Compute unbiased accuracy on B\\ntestset = data.construct_testset(B_raw_ratings)  # testset is now the set B\\npredictions = algo.test(testset)\\nprint('Unbiased accuracy on B,', end=' ')\\naccuracy.rmse(predictions)\\naccuracy.mae(predictions)\\n\\nprecisions, recalls = precision_recall_at_k(predictions, k=5, threshold=4)\\nprint('Precision@k: ',sum(prec for prec in precisions.values()) / len(precisions))\\nprint('Recall@k: ',sum(rec for rec in recalls.values()) / len(recalls))\\n\\n# see the best params based on the RMSE\\ngrid_search.best_params['rmse']\";\n",
       "                var nbb_formatted_code = \"# unbiased accuracy estimation\\n\\n# Load the full dataset.\\nreader = Reader(rating_scale=(1, 5))\\ndata = Dataset.load_from_df(df[[\\\"user_id\\\", \\\"movie_id\\\", \\\"rating\\\"]], reader)\\nraw_ratings = data.raw_ratings\\n\\n# shuffle\\nrandom.shuffle(raw_ratings)\\n\\n# A = 90% of the data, B = 10% of the data\\nthreshold = int(0.9 * len(raw_ratings))\\nA_raw_ratings = raw_ratings[:threshold]\\nB_raw_ratings = raw_ratings[threshold:]\\n\\ndata.raw_ratings = A_raw_ratings  # data is now the set A\\n\\n# Select your best algo with grid search.\\nprint(\\\"Grid Search...\\\")\\nparam_grid = {\\n    \\\"n_factors\\\": [\\n        5,\\n        10,\\n    ],\\n    \\\"n_epochs\\\": [15, 20],\\n    \\\"lr_all\\\": [0.002, 0.005, 0.01],\\n}\\ngrid_search = GridSearchCV(SVD, param_grid, measures=[\\\"rmse\\\"], cv=3)\\ngrid_search.fit(data)\\n\\nalgo = grid_search.best_estimator[\\\"rmse\\\"]\\n\\n# retrain on the whole set A\\ntrainset = data.build_full_trainset()\\nalgo.fit(trainset)\\n\\n# Compute biased accuracy on A\\npredictions = algo.test(trainset.build_testset())\\nprint(\\\"Biased accuracy on A,\\\", end=\\\"   \\\")\\naccuracy.rmse(predictions)\\naccuracy.mae(predictions)\\n\\nprecisions, recalls = precision_recall_at_k(predictions, k=5, threshold=4)\\nprint(\\\"Precision@k: \\\", sum(prec for prec in precisions.values()) / len(precisions))\\nprint(\\\"Recall@k: \\\", sum(rec for rec in recalls.values()) / len(recalls))\\n\\n# Compute unbiased accuracy on B\\ntestset = data.construct_testset(B_raw_ratings)  # testset is now the set B\\npredictions = algo.test(testset)\\nprint(\\\"Unbiased accuracy on B,\\\", end=\\\" \\\")\\naccuracy.rmse(predictions)\\naccuracy.mae(predictions)\\n\\nprecisions, recalls = precision_recall_at_k(predictions, k=5, threshold=4)\\nprint(\\\"Precision@k: \\\", sum(prec for prec in precisions.values()) / len(precisions))\\nprint(\\\"Recall@k: \\\", sum(rec for rec in recalls.values()) / len(recalls))\\n\\n# see the best params based on the RMSE\\ngrid_search.best_params[\\\"rmse\\\"]\";\n",
       "                var nbb_cells = Jupyter.notebook.get_cells();\n",
       "                for (var i = 0; i < nbb_cells.length; ++i) {\n",
       "                    if (nbb_cells[i].input_prompt_number == nbb_cell_id) {\n",
       "                        if (nbb_cells[i].get_text() == nbb_unformatted_code) {\n",
       "                             nbb_cells[i].set_text(nbb_formatted_code);\n",
       "                        }\n",
       "                        break;\n",
       "                    }\n",
       "                }\n",
       "            }, 500);\n",
       "            "
      ],
      "text/plain": [
       "<IPython.core.display.Javascript object>"
      ]
     },
     "metadata": {},
     "output_type": "display_data"
    }
   ],
   "source": [
    "# unbiased accuracy estimation\n",
    "\n",
    "# Load the full dataset.\n",
    "reader = Reader(rating_scale=(1, 5))\n",
    "data = Dataset.load_from_df(df[[\"user_id\", \"movie_id\", \"rating\"]], reader)\n",
    "raw_ratings = data.raw_ratings\n",
    "\n",
    "# shuffle\n",
    "random.shuffle(raw_ratings)\n",
    "\n",
    "# A = 90% of the data, B = 10% of the data\n",
    "threshold = int(0.9 * len(raw_ratings))\n",
    "A_raw_ratings = raw_ratings[:threshold]\n",
    "B_raw_ratings = raw_ratings[threshold:]\n",
    "\n",
    "data.raw_ratings = A_raw_ratings  # data is now the set A\n",
    "\n",
    "# Select your best algo with grid search.\n",
    "print(\"Grid Search...\")\n",
    "param_grid = {\n",
    "    \"n_factors\": [\n",
    "        5,\n",
    "        10,\n",
    "    ],\n",
    "    \"n_epochs\": [15, 20],\n",
    "    \"lr_all\": [0.002, 0.005, 0.01],\n",
    "}\n",
    "grid_search = GridSearchCV(SVD, param_grid, measures=[\"rmse\"], cv=3)\n",
    "grid_search.fit(data)\n",
    "\n",
    "algo = grid_search.best_estimator[\"rmse\"]\n",
    "\n",
    "# retrain on the whole set A\n",
    "trainset = data.build_full_trainset()\n",
    "algo.fit(trainset)\n",
    "\n",
    "# Compute biased accuracy on A\n",
    "predictions = algo.test(trainset.build_testset())\n",
    "print(\"Biased accuracy on A,\", end=\"   \")\n",
    "accuracy.rmse(predictions)\n",
    "accuracy.mae(predictions)\n",
    "\n",
    "precisions, recalls = precision_recall_at_k(predictions, k=5, threshold=4)\n",
    "print(\"Precision@k: \", sum(prec for prec in precisions.values()) / len(precisions))\n",
    "print(\"Recall@k: \", sum(rec for rec in recalls.values()) / len(recalls))\n",
    "\n",
    "# Compute unbiased accuracy on B\n",
    "testset = data.construct_testset(B_raw_ratings)  # testset is now the set B\n",
    "predictions = algo.test(testset)\n",
    "print(\"Unbiased accuracy on B,\", end=\" \")\n",
    "accuracy.rmse(predictions)\n",
    "accuracy.mae(predictions)\n",
    "\n",
    "precisions, recalls = precision_recall_at_k(predictions, k=5, threshold=4)\n",
    "print(\"Precision@k: \", sum(prec for prec in precisions.values()) / len(precisions))\n",
    "print(\"Recall@k: \", sum(rec for rec in recalls.values()) / len(recalls))\n",
    "\n",
    "# see the best params based on the RMSE\n",
    "grid_search.best_params[\"rmse\"]"
   ]
  },
  {
   "cell_type": "markdown",
   "metadata": {},
   "source": [
    "Our best model has an **accurancy (RMSE) of 0.9660 on the test set** and a **MAE of 0.7644 on the test set** . It's normal that the RMSE is higher than the MEA because it's more sensitive to high error.\n",
    "\n",
    "Globally, we can say that our model has a good performance. To understand it better, let's check the recall@k and precision@k.\n",
    "\n",
    "Let's now have a look at the recall@k and the precision@k.\n",
    "\n",
    "The **recall@k is 21.55%** in our test dataset which means that 21.55% of the known relevant item (with a rating superior at 3.5) appear in our top-10 recommendations.\n",
    "\n",
    "The **precision@k is 24.08%** in our test dataset which means that 24.08% of the movies recommended are actually relevant for the users.\n",
    "\n",
    "It's important to notice that the performance is limited by the reduced size of the dataset. \n",
    "\n",
    "It's also interesting to look at the number of latent vector we have. In our case, the best model has 5 latent vectors which means that we can regroup our movie categories into 5 different ones."
   ]
  },
  {
   "cell_type": "markdown",
   "metadata": {},
   "source": [
    "## Prediction (make recommendations for one user)"
   ]
  },
  {
   "cell_type": "markdown",
   "metadata": {},
   "source": [
    "Now that we found the best hyperparamers, we can train the model on the full dataset and make n recommendation for a specific user with the following function."
   ]
  },
  {
   "cell_type": "code",
   "execution_count": 17,
   "metadata": {},
   "outputs": [
    {
     "data": {
      "text/plain": [
       "<surprise.prediction_algorithms.matrix_factorization.SVD at 0x15b800906d8>"
      ]
     },
     "execution_count": 17,
     "metadata": {},
     "output_type": "execute_result"
    },
    {
     "data": {
      "application/javascript": [
       "\n",
       "            setTimeout(function() {\n",
       "                var nbb_cell_id = 17;\n",
       "                var nbb_unformatted_code = \"def make_recommendation(user_id, n, algo):\\n    \\\"\\\"\\\" Return the n best recommendation for a specific user_id\\\"\\\"\\\"\\n    \\n    reco = title.copy().reset_index(drop = True)\\n    reco['predicted_score'] = reco['movie_id'].apply(lambda x: algo.predict(user_id,x).est)\\n    reco = reco.sort_values('predicted_score', ascending=False)\\n    return reco.iloc[:n].reset_index(drop=True)\\n\\n#the best hyperparameters found in the previous step\\nbest_params = grid_search.best_params['rmse']\\n\\n#build the dataset\\nreader = Reader(rating_scale = (1,5))\\ndata = Dataset.load_from_df(df[['user_id', 'movie_id', 'rating']], reader)\\ndata = data.build_full_trainset()\\nalgo = SVD(**best_params) #retrain with the best parameters\\nalgo.fit(data)\";\n",
       "                var nbb_formatted_code = \"def make_recommendation(user_id, n, algo):\\n    \\\"\\\"\\\" Return the n best recommendation for a specific user_id\\\"\\\"\\\"\\n\\n    reco = title.copy().reset_index(drop=True)\\n    reco[\\\"predicted_score\\\"] = reco[\\\"movie_id\\\"].apply(\\n        lambda x: algo.predict(user_id, x).est\\n    )\\n    reco = reco.sort_values(\\\"predicted_score\\\", ascending=False)\\n    return reco.iloc[:n].reset_index(drop=True)\\n\\n\\n# the best hyperparameters found in the previous step\\nbest_params = grid_search.best_params[\\\"rmse\\\"]\\n\\n# build the dataset\\nreader = Reader(rating_scale=(1, 5))\\ndata = Dataset.load_from_df(df[[\\\"user_id\\\", \\\"movie_id\\\", \\\"rating\\\"]], reader)\\ndata = data.build_full_trainset()\\nalgo = SVD(**best_params)  # retrain with the best parameters\\nalgo.fit(data)\";\n",
       "                var nbb_cells = Jupyter.notebook.get_cells();\n",
       "                for (var i = 0; i < nbb_cells.length; ++i) {\n",
       "                    if (nbb_cells[i].input_prompt_number == nbb_cell_id) {\n",
       "                        if (nbb_cells[i].get_text() == nbb_unformatted_code) {\n",
       "                             nbb_cells[i].set_text(nbb_formatted_code);\n",
       "                        }\n",
       "                        break;\n",
       "                    }\n",
       "                }\n",
       "            }, 500);\n",
       "            "
      ],
      "text/plain": [
       "<IPython.core.display.Javascript object>"
      ]
     },
     "metadata": {},
     "output_type": "display_data"
    }
   ],
   "source": [
    "def make_recommendation(user_id, n, algo):\n",
    "    \"\"\" Return the n best recommendation for a specific user_id\"\"\"\n",
    "\n",
    "    reco = title.copy().reset_index(drop=True)\n",
    "    reco[\"predicted_score\"] = reco[\"movie_id\"].apply(\n",
    "        lambda x: algo.predict(user_id, x).est\n",
    "    )\n",
    "    reco = reco.sort_values(\"predicted_score\", ascending=False)\n",
    "    return reco.iloc[:n].reset_index(drop=True)\n",
    "\n",
    "\n",
    "# the best hyperparameters found in the previous step\n",
    "best_params = grid_search.best_params[\"rmse\"]\n",
    "\n",
    "# build the dataset\n",
    "reader = Reader(rating_scale=(1, 5))\n",
    "data = Dataset.load_from_df(df[[\"user_id\", \"movie_id\", \"rating\"]], reader)\n",
    "data = data.build_full_trainset()\n",
    "algo = SVD(**best_params)  # retrain with the best parameters\n",
    "algo.fit(data)"
   ]
  },
  {
   "cell_type": "code",
   "execution_count": 18,
   "metadata": {},
   "outputs": [
    {
     "data": {
      "text/html": [
       "<div>\n",
       "<style scoped>\n",
       "    .dataframe tbody tr th:only-of-type {\n",
       "        vertical-align: middle;\n",
       "    }\n",
       "\n",
       "    .dataframe tbody tr th {\n",
       "        vertical-align: top;\n",
       "    }\n",
       "\n",
       "    .dataframe thead th {\n",
       "        text-align: right;\n",
       "    }\n",
       "</style>\n",
       "<table border=\"1\" class=\"dataframe\">\n",
       "  <thead>\n",
       "    <tr style=\"text-align: right;\">\n",
       "      <th></th>\n",
       "      <th>movie_id</th>\n",
       "      <th>year</th>\n",
       "      <th>name</th>\n",
       "      <th>predicted_score</th>\n",
       "    </tr>\n",
       "  </thead>\n",
       "  <tbody>\n",
       "    <tr>\n",
       "      <th>0</th>\n",
       "      <td>3456</td>\n",
       "      <td>2004.0</td>\n",
       "      <td>Lost: Season 1</td>\n",
       "      <td>4.629791</td>\n",
       "    </tr>\n",
       "    <tr>\n",
       "      <th>1</th>\n",
       "      <td>2803</td>\n",
       "      <td>1995.0</td>\n",
       "      <td>Pride and Prejudice</td>\n",
       "      <td>4.526815</td>\n",
       "    </tr>\n",
       "    <tr>\n",
       "      <th>2</th>\n",
       "      <td>2102</td>\n",
       "      <td>1994.0</td>\n",
       "      <td>The Simpsons: Season 6</td>\n",
       "      <td>4.525478</td>\n",
       "    </tr>\n",
       "    <tr>\n",
       "      <th>3</th>\n",
       "      <td>4427</td>\n",
       "      <td>2001.0</td>\n",
       "      <td>The West Wing: Season 3</td>\n",
       "      <td>4.509857</td>\n",
       "    </tr>\n",
       "    <tr>\n",
       "      <th>4</th>\n",
       "      <td>4238</td>\n",
       "      <td>2000.0</td>\n",
       "      <td>Inu-Yasha</td>\n",
       "      <td>4.508027</td>\n",
       "    </tr>\n",
       "    <tr>\n",
       "      <th>5</th>\n",
       "      <td>3444</td>\n",
       "      <td>2004.0</td>\n",
       "      <td>Family Guy: Freakin' Sweet Collection</td>\n",
       "      <td>4.500545</td>\n",
       "    </tr>\n",
       "    <tr>\n",
       "      <th>6</th>\n",
       "      <td>3290</td>\n",
       "      <td>1974.0</td>\n",
       "      <td>The Godfather</td>\n",
       "      <td>4.498278</td>\n",
       "    </tr>\n",
       "    <tr>\n",
       "      <th>7</th>\n",
       "      <td>724</td>\n",
       "      <td>1992.0</td>\n",
       "      <td>Yu Yu Hakusho</td>\n",
       "      <td>4.493093</td>\n",
       "    </tr>\n",
       "    <tr>\n",
       "      <th>8</th>\n",
       "      <td>1947</td>\n",
       "      <td>2002.0</td>\n",
       "      <td>Gilmore Girls: Season 3</td>\n",
       "      <td>4.473773</td>\n",
       "    </tr>\n",
       "    <tr>\n",
       "      <th>9</th>\n",
       "      <td>2568</td>\n",
       "      <td>2004.0</td>\n",
       "      <td>Stargate SG-1: Season 8</td>\n",
       "      <td>4.466121</td>\n",
       "    </tr>\n",
       "  </tbody>\n",
       "</table>\n",
       "</div>"
      ],
      "text/plain": [
       "   movie_id    year                                   name  predicted_score\n",
       "0      3456  2004.0                         Lost: Season 1         4.629791\n",
       "1      2803  1995.0                    Pride and Prejudice         4.526815\n",
       "2      2102  1994.0                 The Simpsons: Season 6         4.525478\n",
       "3      4427  2001.0                The West Wing: Season 3         4.509857\n",
       "4      4238  2000.0                              Inu-Yasha         4.508027\n",
       "5      3444  2004.0  Family Guy: Freakin' Sweet Collection         4.500545\n",
       "6      3290  1974.0                          The Godfather         4.498278\n",
       "7       724  1992.0                          Yu Yu Hakusho         4.493093\n",
       "8      1947  2002.0                Gilmore Girls: Season 3         4.473773\n",
       "9      2568  2004.0                Stargate SG-1: Season 8         4.466121"
      ]
     },
     "execution_count": 18,
     "metadata": {},
     "output_type": "execute_result"
    },
    {
     "data": {
      "application/javascript": [
       "\n",
       "            setTimeout(function() {\n",
       "                var nbb_cell_id = 18;\n",
       "                var nbb_unformatted_code = \"#make recommendation for specific user\\nmake_recommendation(298972, 10, algo)\";\n",
       "                var nbb_formatted_code = \"# make recommendation for specific user\\nmake_recommendation(298972, 10, algo)\";\n",
       "                var nbb_cells = Jupyter.notebook.get_cells();\n",
       "                for (var i = 0; i < nbb_cells.length; ++i) {\n",
       "                    if (nbb_cells[i].input_prompt_number == nbb_cell_id) {\n",
       "                        if (nbb_cells[i].get_text() == nbb_unformatted_code) {\n",
       "                             nbb_cells[i].set_text(nbb_formatted_code);\n",
       "                        }\n",
       "                        break;\n",
       "                    }\n",
       "                }\n",
       "            }, 500);\n",
       "            "
      ],
      "text/plain": [
       "<IPython.core.display.Javascript object>"
      ]
     },
     "metadata": {},
     "output_type": "display_data"
    }
   ],
   "source": [
    "# make recommendation for specific user\n",
    "make_recommendation(298972, 10, algo)"
   ]
  },
  {
   "cell_type": "markdown",
   "metadata": {},
   "source": [
    "Now let's have a look human look at our recommendations: the movies/tv shows recommended looks alike so it looks like our recommender works well."
   ]
  },
  {
   "cell_type": "markdown",
   "metadata": {},
   "source": [
    "## Prediction (all users)"
   ]
  },
  {
   "cell_type": "markdown",
   "metadata": {},
   "source": [
    "Now, we want to predict the ratings for the all the pair user / item without ratings. \n",
    "\n",
    "This part doesn't work with the dataset we used previously because it is too expansive in memory. However, the procedure should work on a more powerful computer.\n",
    "\n",
    "We will still do it a small subset of our data."
   ]
  },
  {
   "cell_type": "code",
   "execution_count": 19,
   "metadata": {},
   "outputs": [
    {
     "data": {
      "application/javascript": [
       "\n",
       "            setTimeout(function() {\n",
       "                var nbb_cell_id = 19;\n",
       "                var nbb_unformatted_code = \"def get_top_n(predictions, n=10):\\n    \\\"\\\"\\\"Return the top-N recommendation for each user from a set of predictions.\\n\\n    Args:\\n        predictions(list of Prediction objects): The list of predictions, as\\n            returned by the test method of an algorithm.\\n        n(int): The number of recommendation to output for each user. Default\\n            is 10.\\n\\n    Returns:\\n    A dict where keys are user (raw) ids and values are lists of tuples:\\n        [(raw item id, rating estimation), ...] of size n.\\n    \\\"\\\"\\\"\\n\\n    # First map the predictions to each user.\\n    top_n = defaultdict(list)\\n    for uid, iid, true_r, est, _ in predictions:\\n        top_n[uid].append((iid, est))\\n\\n    # Then sort the predictions for each user and retrieve the k highest ones.\\n    for uid, user_ratings in top_n.items():\\n        user_ratings.sort(key=lambda x: x[1], reverse=True)\\n        top_n[uid] = user_ratings[:n]\\n\\n    return top_n\";\n",
       "                var nbb_formatted_code = \"def get_top_n(predictions, n=10):\\n    \\\"\\\"\\\"Return the top-N recommendation for each user from a set of predictions.\\n\\n    Args:\\n        predictions(list of Prediction objects): The list of predictions, as\\n            returned by the test method of an algorithm.\\n        n(int): The number of recommendation to output for each user. Default\\n            is 10.\\n\\n    Returns:\\n    A dict where keys are user (raw) ids and values are lists of tuples:\\n        [(raw item id, rating estimation), ...] of size n.\\n    \\\"\\\"\\\"\\n\\n    # First map the predictions to each user.\\n    top_n = defaultdict(list)\\n    for uid, iid, true_r, est, _ in predictions:\\n        top_n[uid].append((iid, est))\\n\\n    # Then sort the predictions for each user and retrieve the k highest ones.\\n    for uid, user_ratings in top_n.items():\\n        user_ratings.sort(key=lambda x: x[1], reverse=True)\\n        top_n[uid] = user_ratings[:n]\\n\\n    return top_n\";\n",
       "                var nbb_cells = Jupyter.notebook.get_cells();\n",
       "                for (var i = 0; i < nbb_cells.length; ++i) {\n",
       "                    if (nbb_cells[i].input_prompt_number == nbb_cell_id) {\n",
       "                        if (nbb_cells[i].get_text() == nbb_unformatted_code) {\n",
       "                             nbb_cells[i].set_text(nbb_formatted_code);\n",
       "                        }\n",
       "                        break;\n",
       "                    }\n",
       "                }\n",
       "            }, 500);\n",
       "            "
      ],
      "text/plain": [
       "<IPython.core.display.Javascript object>"
      ]
     },
     "metadata": {},
     "output_type": "display_data"
    }
   ],
   "source": [
    "def get_top_n(predictions, n=10):\n",
    "    \"\"\"Return the top-N recommendation for each user from a set of predictions.\n",
    "\n",
    "    Args:\n",
    "        predictions(list of Prediction objects): The list of predictions, as\n",
    "            returned by the test method of an algorithm.\n",
    "        n(int): The number of recommendation to output for each user. Default\n",
    "            is 10.\n",
    "\n",
    "    Returns:\n",
    "    A dict where keys are user (raw) ids and values are lists of tuples:\n",
    "        [(raw item id, rating estimation), ...] of size n.\n",
    "    \"\"\"\n",
    "\n",
    "    # First map the predictions to each user.\n",
    "    top_n = defaultdict(list)\n",
    "    for uid, iid, true_r, est, _ in predictions:\n",
    "        top_n[uid].append((iid, est))\n",
    "\n",
    "    # Then sort the predictions for each user and retrieve the k highest ones.\n",
    "    for uid, user_ratings in top_n.items():\n",
    "        user_ratings.sort(key=lambda x: x[1], reverse=True)\n",
    "        top_n[uid] = user_ratings[:n]\n",
    "\n",
    "    return top_n"
   ]
  },
  {
   "cell_type": "code",
   "execution_count": 20,
   "metadata": {},
   "outputs": [
    {
     "data": {
      "text/html": [
       "<div>\n",
       "<style scoped>\n",
       "    .dataframe tbody tr th:only-of-type {\n",
       "        vertical-align: middle;\n",
       "    }\n",
       "\n",
       "    .dataframe tbody tr th {\n",
       "        vertical-align: top;\n",
       "    }\n",
       "\n",
       "    .dataframe thead th {\n",
       "        text-align: right;\n",
       "    }\n",
       "</style>\n",
       "<table border=\"1\" class=\"dataframe\">\n",
       "  <thead>\n",
       "    <tr style=\"text-align: right;\">\n",
       "      <th></th>\n",
       "      <th>user_id</th>\n",
       "      <th>recommendations</th>\n",
       "    </tr>\n",
       "  </thead>\n",
       "  <tbody>\n",
       "    <tr>\n",
       "      <th>0</th>\n",
       "      <td>10779</td>\n",
       "      <td>[3290, 2172, 2102, 3962, 2162, 2548, 2057, 423...</td>\n",
       "    </tr>\n",
       "    <tr>\n",
       "      <th>1</th>\n",
       "      <td>1438997</td>\n",
       "      <td>[2803, 3456, 270, 2102, 1476, 4427, 3290, 4238...</td>\n",
       "    </tr>\n",
       "    <tr>\n",
       "      <th>2</th>\n",
       "      <td>1660482</td>\n",
       "      <td>[3456, 2803, 2102, 270, 4238, 2114, 3290, 1947...</td>\n",
       "    </tr>\n",
       "    <tr>\n",
       "      <th>3</th>\n",
       "      <td>148844</td>\n",
       "      <td>[3456, 4427, 3444, 2102, 3962, 4238, 2568, 194...</td>\n",
       "    </tr>\n",
       "    <tr>\n",
       "      <th>4</th>\n",
       "      <td>345035</td>\n",
       "      <td>[3456, 2803, 270, 2102, 2114, 1476, 3962, 4427...</td>\n",
       "    </tr>\n",
       "  </tbody>\n",
       "</table>\n",
       "</div>"
      ],
      "text/plain": [
       "   user_id                                    recommendations\n",
       "0    10779  [3290, 2172, 2102, 3962, 2162, 2548, 2057, 423...\n",
       "1  1438997  [2803, 3456, 270, 2102, 1476, 4427, 3290, 4238...\n",
       "2  1660482  [3456, 2803, 2102, 270, 4238, 2114, 3290, 1947...\n",
       "3   148844  [3456, 4427, 3444, 2102, 3962, 4238, 2568, 194...\n",
       "4   345035  [3456, 2803, 270, 2102, 2114, 1476, 3962, 4427..."
      ]
     },
     "execution_count": 20,
     "metadata": {},
     "output_type": "execute_result"
    },
    {
     "data": {
      "application/javascript": [
       "\n",
       "            setTimeout(function() {\n",
       "                var nbb_cell_id = 20;\n",
       "                var nbb_unformatted_code = \"#the best hyperparameters found in the previous step\\nbest_params = grid_search.best_params['rmse']\\n\\n#build the dataset with a few observations\\nreader = Reader(rating_scale = (1,5))\\nsmall_df = df[['user_id', 'movie_id', 'rating']].iloc[:10000] #take 10000 observations\\ndata = Dataset.load_from_df(small_df, reader) \\ndata = data.build_full_trainset()\\n\\n# Than predict ratings for all pairs (u, i) that are not in the training set.\\n\\ntestset = data.build_anti_testset() #we used the model we trained in the previous step\\npredictions = algo.test(testset)\\n\\ntop_n = get_top_n(predictions, n=10)\\n\\n# Print the recommended items for each user\\ntop_n_list = []\\nfor uid, user_ratings in top_n.items():\\n    top_n_list.append([uid, [iid for (iid, _) in user_ratings]])\\npd.DataFrame(top_n_list, columns = ['user_id', 'recommendations']).head()\";\n",
       "                var nbb_formatted_code = \"# the best hyperparameters found in the previous step\\nbest_params = grid_search.best_params[\\\"rmse\\\"]\\n\\n# build the dataset with a few observations\\nreader = Reader(rating_scale=(1, 5))\\nsmall_df = df[[\\\"user_id\\\", \\\"movie_id\\\", \\\"rating\\\"]].iloc[:10000]  # take 10000 observations\\ndata = Dataset.load_from_df(small_df, reader)\\ndata = data.build_full_trainset()\\n\\n# Than predict ratings for all pairs (u, i) that are not in the training set.\\n\\ntestset = data.build_anti_testset()  # we used the model we trained in the previous step\\npredictions = algo.test(testset)\\n\\ntop_n = get_top_n(predictions, n=10)\\n\\n# Print the recommended items for each user\\ntop_n_list = []\\nfor uid, user_ratings in top_n.items():\\n    top_n_list.append([uid, [iid for (iid, _) in user_ratings]])\\npd.DataFrame(top_n_list, columns=[\\\"user_id\\\", \\\"recommendations\\\"]).head()\";\n",
       "                var nbb_cells = Jupyter.notebook.get_cells();\n",
       "                for (var i = 0; i < nbb_cells.length; ++i) {\n",
       "                    if (nbb_cells[i].input_prompt_number == nbb_cell_id) {\n",
       "                        if (nbb_cells[i].get_text() == nbb_unformatted_code) {\n",
       "                             nbb_cells[i].set_text(nbb_formatted_code);\n",
       "                        }\n",
       "                        break;\n",
       "                    }\n",
       "                }\n",
       "            }, 500);\n",
       "            "
      ],
      "text/plain": [
       "<IPython.core.display.Javascript object>"
      ]
     },
     "metadata": {},
     "output_type": "display_data"
    }
   ],
   "source": [
    "# the best hyperparameters found in the previous step\n",
    "best_params = grid_search.best_params[\"rmse\"]\n",
    "\n",
    "# build the dataset with a few observations\n",
    "reader = Reader(rating_scale=(1, 5))\n",
    "small_df = df[[\"user_id\", \"movie_id\", \"rating\"]].iloc[:10000]  # take 10000 observations\n",
    "data = Dataset.load_from_df(small_df, reader)\n",
    "data = data.build_full_trainset()\n",
    "\n",
    "# Than predict ratings for all pairs (u, i) that are not in the training set.\n",
    "\n",
    "testset = data.build_anti_testset()  # we used the model we trained in the previous step\n",
    "predictions = algo.test(testset)\n",
    "top_n = get_top_n(predictions, n=10)\n",
    "\n",
    "# Print the recommended items for each user\n",
    "top_n_list = []\n",
    "for uid, user_ratings in top_n.items():\n",
    "    top_n_list.append([uid, [iid for (iid, _) in user_ratings]])\n",
    "pd.DataFrame(top_n_list, columns=[\"user_id\", \"recommendations\"]).head()"
   ]
  },
  {
   "cell_type": "markdown",
   "metadata": {},
   "source": [
    "To finish our analysis, let's check one last metrics: the coverage. As we said earlier, when most of ratings are concentred into a small number of movies, the recommender system will more likely recommend those movies and the number of different recommended movies  will be small.\n",
    "\n",
    "To measure this problem, we can use the coverage, which is the percentage of the training movies recommended in the test set. \n"
   ]
  },
  {
   "cell_type": "code",
   "execution_count": 21,
   "metadata": {},
   "outputs": [
    {
     "name": "stdout",
     "output_type": "stream",
     "text": [
      "The coverage is 5.75%\n"
     ]
    },
    {
     "data": {
      "application/javascript": [
       "\n",
       "            setTimeout(function() {\n",
       "                var nbb_cell_id = 21;\n",
       "                var nbb_unformatted_code = \"#list of the recommended items\\ntop_list = []\\nfor uid, user_ratings in top_n.items():\\n    top_list.append([iid for (iid, _) in user_ratings])\\nflat_list = [item for sublist in top_list for item in sublist]\\n#count the unique values\\ncoverage = len(set(flat_list)) /len(small_df['movie_id'].unique())*100\\nprint('The coverage is {}%'.format(round(coverage,2)))\";\n",
       "                var nbb_formatted_code = \"# list of the recommended items\\ntop_list = []\\nfor uid, user_ratings in top_n.items():\\n    top_list.append([iid for (iid, _) in user_ratings])\\nflat_list = [item for sublist in top_list for item in sublist]\\n# count the unique values\\ncoverage = len(set(flat_list)) / len(small_df[\\\"movie_id\\\"].unique()) * 100\\nprint(\\\"The coverage is {}%\\\".format(round(coverage, 2)))\";\n",
       "                var nbb_cells = Jupyter.notebook.get_cells();\n",
       "                for (var i = 0; i < nbb_cells.length; ++i) {\n",
       "                    if (nbb_cells[i].input_prompt_number == nbb_cell_id) {\n",
       "                        if (nbb_cells[i].get_text() == nbb_unformatted_code) {\n",
       "                             nbb_cells[i].set_text(nbb_formatted_code);\n",
       "                        }\n",
       "                        break;\n",
       "                    }\n",
       "                }\n",
       "            }, 500);\n",
       "            "
      ],
      "text/plain": [
       "<IPython.core.display.Javascript object>"
      ]
     },
     "metadata": {},
     "output_type": "display_data"
    }
   ],
   "source": [
    "# list of the recommended items\n",
    "top_list = []\n",
    "for uid, user_ratings in top_n.items():\n",
    "    top_list.append([iid for (iid, _) in user_ratings])\n",
    "flat_list = [item for sublist in top_list for item in sublist]\n",
    "# count the unique values\n",
    "coverage = len(set(flat_list)) / len(small_df[\"movie_id\"].unique()) * 100\n",
    "print(\"The coverage is {}%\".format(round(coverage, 2)))"
   ]
  },
  {
   "cell_type": "markdown",
   "metadata": {},
   "source": [
    "We have a coverage of 5.75% which means that only 5.75% of our movies (of the small dataset) are recommended. This score shows the problem we talked earlier with having an unbalanced amount of ratings by movie. \n",
    "\n",
    "And this finish our work on this recommender system. \n",
    "\n",
    "So we see that SVD is a solid method to build a recommender system. Based on the metrics, the model is performing well and based on our human interpretation, it looks like the recommended items make sense. However, we saw that the coverage rate is a bit low. \n",
    "\n",
    "This problem can be adresse by changing the model: some model have shown good results in improving the coverage rate like context based model or reinforcement learning."
   ]
  }
 ],
 "metadata": {
  "kernelspec": {
   "display_name": "Python 3",
   "language": "python",
   "name": "python3"
  },
  "language_info": {
   "codemirror_mode": {
    "name": "ipython",
    "version": 3
   },
   "file_extension": ".py",
   "mimetype": "text/x-python",
   "name": "python",
   "nbconvert_exporter": "python",
   "pygments_lexer": "ipython3",
   "version": "3.7.3"
  }
 },
 "nbformat": 4,
 "nbformat_minor": 4
}
